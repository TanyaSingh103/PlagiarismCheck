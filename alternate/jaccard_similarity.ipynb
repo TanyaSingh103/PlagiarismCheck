{
  "cells": [
    {
      "cell_type": "markdown",
      "metadata": {
        "id": "pEMz8eJEvk_R"
      },
      "source": [
        "What the test data looks like:\n",
        "\n",
        "test1.cpp - original submission from a student\n",
        "\n",
        "test2.cpp - exact copy of test1\n",
        "\n",
        "test3.cpp - original submission from a student\n",
        "\n",
        "test4.cpp - original submission from a student\n",
        "\n",
        "test5.cpp - original submission from a student\n",
        "\n",
        "test6.cpp - changed muliple variable and function names from test1\n",
        "\n"
      ]
    },
    {
      "cell_type": "code",
      "execution_count": 1,
      "metadata": {
        "id": "wQaIza29-mRE"
      },
      "outputs": [],
      "source": [
        "import re\n",
        "import os\n",
        "\n",
        "def remove_comments_and_headers(code):\n",
        "    code = re.sub(r'//.*', '', code)\n",
        "    code = re.sub(r'/\\*[\\s\\S]*?\\*/', '', code)\n",
        "    code = re.sub(r'#include\\s*<.*>', '', code)\n",
        "    code = re.sub(r'#include\\s*\".*\"', '', code)\n",
        "    code = re.sub(r'using\\s+namespace\\s+std;', '', code)\n",
        "    code = re.sub(r';', '', code)\n",
        "    return code\n",
        "\n",
        "def normalize_whitespace(code):\n",
        "    code = code.strip()\n",
        "    code = re.sub(r'\\s+', ' ', code)\n",
        "    code = re.sub(r'\\n+', '\\n', code)\n",
        "    return code\n"
      ]
    },
    {
      "cell_type": "code",
      "execution_count": 2,
      "metadata": {
        "id": "54ev5mF6_Nbl"
      },
      "outputs": [],
      "source": [
        "def preprocess_code(file_path):\n",
        "    with open(file_path, 'r', encoding='utf-8') as file:\n",
        "        code = file.read()\n",
        "    code = remove_comments_and_headers(code)\n",
        "    code = normalize_whitespace(code)\n",
        "    return code"
      ]
    },
    {
      "cell_type": "code",
      "execution_count": 3,
      "metadata": {
        "id": "1zWL4MSe_LSb"
      },
      "outputs": [],
      "source": [
        "def preprocess_files(directory):\n",
        "    preprocessed_files = {}\n",
        "    for filename in os.listdir(directory):\n",
        "        if filename.endswith('.cpp'):\n",
        "            file_path = os.path.join(directory, filename)\n",
        "            preprocessed_files[filename] = preprocess_code(file_path)\n",
        "    return preprocessed_files"
      ]
    },
    {
      "cell_type": "code",
      "execution_count": 4,
      "metadata": {
        "id": "QKczV-I9_Ibl"
      },
      "outputs": [],
      "source": [
        "directory = '/content/data/tests'\n",
        "preprocessed_files = preprocess_files(directory)"
      ]
    },
    {
      "cell_type": "code",
      "execution_count": 5,
      "metadata": {
        "colab": {
          "base_uri": "https://localhost:8080/"
        },
        "id": "heudSE7L_Dhv",
        "outputId": "5ce9d8dc-1ca0-47fd-fa45-d7257f2d2adb"
      },
      "outputs": [
        {
          "name": "stdout",
          "output_type": "stream",
          "text": [
            "--- Preprocessed code for test4.cpp ---\n",
            "int solve(vector<int> ar, int n, int i, vector<int> dp) { if(i == n) return 1 if(dp[i] != -1) return dp[i] int include = 0, exclude = 0 if(ar[i] > ar[i-1]) include = 1 + solve(ar, n, i+1, dp) exclude = 0 + solve(ar, n, i+1, dp) return dp[i] = max(include, exclude) } int main() { vector<int> ar1 = {10,20,30,35,40,45} int n1 = ar1.size() vector<int> dp1(n1, -1) cout << \"Test case 1 : \" << solve(ar1, n1, 1, dp1) vector<int> ar2 = {5,4,3,2,1} int n2 = ar2.size() vector<int> dp2(n2, -1) cout << \"\\nTest case 2 : \" << solve(ar2, n2, 1, dp2) return 0 }\n",
            "------------------------------------------\n",
            "--- Preprocessed code for test6.cpp ---\n",
            "int longestInc(vector<int>& arr,int curr,int prev,vector<vector<int>>dp) { if(curr==arr.size()) return 0 if(dp[curr][prev+1]!=-1) return dp[curr][prev+1] int exclude = 0 + longest_inc(arr, curr+1, prev, dp) int include=0 if(prev==-1||arr[curr]>arr[prev]){ include=1+longest_inc(arr,curr+1,curr,dp) } dp[curr][prev+1] = max(include, exclude) return dp[curr][prev+1] } int main() { vector<int>arr1={10,20,30,25,35,40,45} vector<int>arr2={5, 4, 3, 2, 1} int n=arr1.size() int prev=-1,curr=0 vector<vector<int>> dp(n, vector<int>(n, -1)) cout<<\"LIS for test case 1:\"<<longest_inc(arr1,curr,prev,dp)<<endl cout<<\"LIS for test case 2:\"<<longest_inc(arr2,curr,prev,dp) }\n",
            "------------------------------------------\n",
            "--- Preprocessed code for test5.cpp ---\n",
            "int stockPrice(vector<int>& arr, int n, int curr, int prev, vector<vector<int>>& dp) { if (curr == n) return 0 if (dp[curr][prev + 1] != -1) return dp[curr][prev + 1] int include = 0, exclude = 0 if (prev == -1 || arr[curr] >= arr[prev]) include = arr[curr] + stockPrice(arr, n, curr + 1, curr, dp) exclude = stockPrice(arr, n, curr + 1, prev, dp) dp[curr][prev + 1] = max(include, exclude) return dp[curr][prev + 1] } int maxProfit(vector<int>& stocks) { int n = stocks.size() vector<vector<int>> dp(n, vector<int>(n + 1, -1)) return stockPrice(stocks, n, 0, -1, dp) } int main() { vector<int> stocks = {10, 20, 30, 25, 35, 40, 45} cout << \"Maximum profit: \" << maxProfit(stocks) << endl return 0 }\n",
            "------------------------------------------\n",
            "--- Preprocessed code for test3.cpp ---\n",
            "int solve(int curr,int prev,vector<int> &nums,vector<vector<int>> &dp) { if(curr >= nums.size() ) { return 0 } if(dp[curr][prev+1] != -1) { return dp[curr][prev+1] } int take = INT_MIN if(prev == -1 || nums[curr] > nums[prev]) { take = 1 + solve(curr + 1,curr,nums,dp) } int not_take = solve(curr+1,prev,nums,dp) return dp[curr][prev+1] = max(take,not_take) } void increasing_streak(vector<int> v) { vector<vector<int>> dp(v.size(),vector<int>(v.size(),-1)) int ans = solve(0,-1,v,dp) if(ans == 0) { cout<<\"Null array has been passed\"<<endl } else if(ans == 1) { cout<<\"There are no increasing streaks the longest streak with rising prices is of length 1.\"<<endl } else { cout<<ans<<endl } } int main() { vector<int> v1 = {10,20,30,25,35,40,45} increasing_streak(v1) vector<int> v2 = {5,4,3,2,1} increasing_streak(v2) vector<int> v3 = {} increasing_streak(v3) vector<int> v4 = {1} increasing_streak(v4) vector<int> v5 = {2,8,9,11,1,9,-1,4,6} increasing_streak(v5) vector<int> v6 = {5,10,4,6,7,8} increasing_streak(v6) }\n",
            "------------------------------------------\n",
            "--- Preprocessed code for test1.cpp ---\n",
            "int longest_inc(vector<int>& arr,int curr,int prev,vector<vector<int>>dp) { if(curr==arr.size()) return 0 if(dp[curr][prev+1]!=-1) return dp[curr][prev+1] int notTake = 0 + longest_inc(arr, curr+1, prev, dp) int take=0 if(prev==-1||arr[curr]>arr[prev]){ take=1+longest_inc(arr,curr+1,curr,dp) } return dp[curr][prev+1] = max(take, notTake) } int main() { vector<int>arr={10,20,30,25,35,40,45} vector<int>arr1={5, 4, 3, 2, 1} int n=arr.size() int prev=-1,curr=0 vector<vector<int>> dp(n, vector<int>(n, -1)) cout<<\"Longest increasing subsequence for test case 1 is:\"<<longest_inc(arr,curr,prev,dp)<<endl cout<<\"Longest increasing subsequence for test case 2 is:\"<<longest_inc(arr1,curr,prev,dp) }\n",
            "------------------------------------------\n",
            "--- Preprocessed code for test2.cpp ---\n",
            "int longest_inc(vector<int>& arr,int curr,int prev,vector<vector<int>>dp) { if(curr==arr.size()) return 0 if(dp[curr][prev+1]!=-1) return dp[curr][prev+1] int notTake = 0 + longest_inc(arr, curr+1, prev, dp) int take=0 if(prev==-1||arr[curr]>arr[prev]){ take=1+longest_inc(arr,curr+1,curr,dp) } return dp[curr][prev+1] = max(take, notTake) } int main() { vector<int>arr={10,20,30,25,35,40,45} vector<int>arr1={5, 4, 3, 2, 1} int n=arr.size() int prev=-1,curr=0 vector<vector<int>> dp(n, vector<int>(n, -1)) cout<<\"Longest increasing subsequence for test case 1 is:\"<<longest_inc(arr,curr,prev,dp)<<endl cout<<\"Longest increasing subsequence for test case 2 is:\"<<longest_inc(arr1,curr,prev,dp) }\n",
            "------------------------------------------\n"
          ]
        }
      ],
      "source": [
        "for filename, preprocessed_code in preprocessed_files.items():\n",
        "    print(f\"--- Preprocessed code for {filename} ---\")\n",
        "    print(preprocessed_code)\n",
        "    print(\"------------------------------------------\")"
      ]
    },
    {
      "cell_type": "code",
      "execution_count": 6,
      "metadata": {
        "id": "n130xsPYCaI9"
      },
      "outputs": [],
      "source": [
        "def tokenize_code(code):\n",
        "    tokens = set(code.split())\n",
        "    return tokens\n"
      ]
    },
    {
      "cell_type": "code",
      "execution_count": 7,
      "metadata": {
        "id": "9ae-2p-fp1So"
      },
      "outputs": [],
      "source": [
        "def calculate_jaccard_similarity(tokens1, tokens2):\n",
        "    intersection = len(tokens1.intersection(tokens2))\n",
        "    union = len(tokens1.union(tokens2))\n",
        "    jaccard_similarity = intersection / union if union != 0 else 0.0\n",
        "    return jaccard_similarity"
      ]
    },
    {
      "cell_type": "code",
      "execution_count": 8,
      "metadata": {
        "colab": {
          "base_uri": "https://localhost:8080/"
        },
        "id": "wO1d7hafpvEl",
        "outputId": "e71eaac6-6e5f-432b-ec63-ce8f92295d35"
      },
      "outputs": [
        {
          "name": "stdout",
          "output_type": "stream",
          "text": [
            "Jaccard similarity between test4.cpp and test6.cpp: 0.14942528735632185\n",
            "Jaccard similarity between test4.cpp and test5.cpp: 0.24742268041237114\n",
            "Jaccard similarity between test5.cpp and test6.cpp: 0.17582417582417584\n",
            "Jaccard similarity between test3.cpp and test4.cpp: 0.11627906976744186\n",
            "Jaccard similarity between test3.cpp and test6.cpp: 0.09243697478991597\n",
            "Jaccard similarity between test3.cpp and test5.cpp: 0.11851851851851852\n",
            "Jaccard similarity between test1.cpp and test4.cpp: 0.13043478260869565\n",
            "Jaccard similarity between test1.cpp and test6.cpp: 0.5254237288135594\n",
            "Jaccard similarity between test1.cpp and test5.cpp: 0.1326530612244898\n",
            "Jaccard similarity between test1.cpp and test3.cpp: 0.10743801652892562\n",
            "Jaccard similarity between test1.cpp and test2.cpp: 1.0\n",
            "Jaccard similarity between test2.cpp and test4.cpp: 0.13043478260869565\n",
            "Jaccard similarity between test2.cpp and test6.cpp: 0.5254237288135594\n",
            "Jaccard similarity between test2.cpp and test5.cpp: 0.1326530612244898\n",
            "Jaccard similarity between test2.cpp and test3.cpp: 0.10743801652892562\n"
          ]
        }
      ],
      "source": [
        "for filename1, code1 in preprocessed_files.items():\n",
        "    for filename2, code2 in preprocessed_files.items():\n",
        "        if filename1 < filename2:\n",
        "            tokens1 = tokenize_code(code1)\n",
        "            tokens2 = tokenize_code(code2)\n",
        "            jaccard_similarity = calculate_jaccard_similarity(tokens1, tokens2)\n",
        "            print(f\"Jaccard similarity between {filename1} and {filename2}: {jaccard_similarity}\")\n"
      ]
    },
    {
      "cell_type": "code",
      "execution_count": 9,
      "metadata": {
        "id": "Vm6iDVRMArcr"
      },
      "outputs": [],
      "source": [
        "threshold = 0.45"
      ]
    },
    {
      "cell_type": "code",
      "execution_count": 10,
      "metadata": {
        "id": "k9A15GWuA-eC"
      },
      "outputs": [],
      "source": [
        "def identify_plagiarized_code(preprocessed_files, threshold):\n",
        "    plagiarized_pairs = []\n",
        "    for filename1, code1 in preprocessed_files.items():\n",
        "        for filename2, code2 in preprocessed_files.items():\n",
        "            if filename1 < filename2:\n",
        "                tokens1 = tokenize_code(code1)\n",
        "                tokens2 = tokenize_code(code2)\n",
        "                jaccard_similarity = calculate_jaccard_similarity(tokens1, tokens2)\n",
        "                if jaccard_similarity > threshold:\n",
        "                    plagiarized_pairs.append((filename1, filename2, jaccard_similarity))\n",
        "    return plagiarized_pairs"
      ]
    },
    {
      "cell_type": "code",
      "execution_count": 11,
      "metadata": {
        "id": "amgOxklKA7Nt"
      },
      "outputs": [],
      "source": [
        "plagiarized_pairs = identify_plagiarized_code(preprocessed_files, threshold)"
      ]
    },
    {
      "cell_type": "code",
      "execution_count": 12,
      "metadata": {
        "colab": {
          "base_uri": "https://localhost:8080/"
        },
        "id": "QrKlu1paA5sS",
        "outputId": "22029f65-6d27-4c5e-da84-a1bca038ef60"
      },
      "outputs": [
        {
          "name": "stdout",
          "output_type": "stream",
          "text": [
            "Plagiarized code pair: test1.cpp and test6.cpp, Similarity: 0.5254237288135594\n",
            "Plagiarized code pair: test1.cpp and test2.cpp, Similarity: 1.0\n",
            "Plagiarized code pair: test2.cpp and test6.cpp, Similarity: 0.5254237288135594\n"
          ]
        }
      ],
      "source": [
        "for pair in plagiarized_pairs:\n",
        "    filename1, filename2, similarity = pair\n",
        "    print(f\"Plagiarized code pair: {filename1} and {filename2}, Similarity: {similarity}\")"
      ]
    }
  ],
  "metadata": {
    "colab": {
      "provenance": []
    },
    "kernelspec": {
      "display_name": "Python 3",
      "name": "python3"
    },
    "language_info": {
      "name": "python"
    }
  },
  "nbformat": 4,
  "nbformat_minor": 0
}
