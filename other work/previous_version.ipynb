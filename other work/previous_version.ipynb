{
  "cells": [
    {
      "cell_type": "code",
      "source": [
        "import random\n",
        "import re\n",
        "from sklearn.feature_extraction.text import TfidfVectorizer\n",
        "from sklearn.ensemble import RandomForestClassifier\n",
        "from sklearn.metrics import classification_report\n",
        "from sklearn.model_selection import train_test_split, cross_val_score, GridSearchCV\n",
        "from imblearn.under_sampling import RandomUnderSampler\n",
        "\n",
        "#labels (0: not plagiarized, 1: plagiarized)\n",
        "file_pairs = [\n",
        "    ('/content/data/tests/test1.cpp', '/content/data/tests/test6.cpp', 1),\n",
        "    ('/content/data/tests/test1.cpp', '/content/data/tests/test2.cpp', 1),\n",
        "    ('/content/data/tests/test2.cpp', '/content/data/tests/test4.cpp', 0),\n",
        "    ('/content/data/tests/test5.cpp', '/content/data/tests/test1.cpp', 0),\n",
        "    ('/content/data/tests/test3.cpp', '/content/data/tests/test6.cpp', 0),\n",
        "\n",
        "]\n",
        "\n",
        "def load_and_preprocess(file1, file2):\n",
        "    with open(file1, 'r', encoding='utf-8') as f1, open(file2, 'r', encoding='utf-8') as f2:\n",
        "        code1 = f1.read()\n",
        "        code2 = f2.read()\n",
        "    code1 = preprocess_code(code1)\n",
        "    code2 = preprocess_code(code2)\n",
        "    return code1, code2\n",
        "\n",
        "def preprocess_code(code):\n",
        "    code = re.sub(r'//.*', '', code)\n",
        "    code = re.sub(r'/\\*[\\s\\S]*?\\*/', '', code)\n",
        "    code = re.sub(r'#include\\s*<.*>', '', code)\n",
        "    code = re.sub(r'#include\\s*\".*\"', '', code)\n",
        "    code = re.sub(r'using\\s+namespace\\s+std;', '', code)\n",
        "    code = re.sub(r';', '', code)\n",
        "    code = code.strip()\n",
        "    code = re.sub(r'\\s+', ' ', code)\n",
        "    code = re.sub(r'\\n+', '\\n', code)\n",
        "    return code\n",
        "\n",
        "def augment_code_sample(code_sample):\n",
        "    lines = code_sample.split(' ')\n",
        "    random.shuffle(lines)\n",
        "    return ' '.join(lines)\n",
        "\n",
        "code_samples = []\n",
        "labels = []\n",
        "\n",
        "for file1, file2, label in file_pairs:\n",
        "    code1, code2 = load_and_preprocess(file1, file2)\n",
        "    code_samples.append(code1)\n",
        "    code_samples.append(code2)\n",
        "    labels.extend([label, label])\n",
        "\n",
        "    for _ in range(100):\n",
        "        augmented_code1 = augment_code_sample(code1)\n",
        "        augmented_code2 = augment_code_sample(code2)\n",
        "        code_samples.append(augmented_code1)\n",
        "        code_samples.append(augmented_code2)\n",
        "        labels.extend([label, label])\n",
        "\n",
        "vectorizer = TfidfVectorizer()\n",
        "X = vectorizer.fit_transform(code_samples)\n",
        "\n",
        "rus = RandomUnderSampler(random_state=42)\n",
        "X_resampled, y_resampled = rus.fit_resample(X, labels)\n",
        "\n",
        "param_grid = {\n",
        "    'n_estimators': [50, 100, 200],\n",
        "    'max_depth': [None, 10, 20, 30],\n",
        "    'min_samples_split': [2, 5, 10],\n",
        "    'min_samples_leaf': [1, 2, 4]\n",
        "}\n",
        "\n",
        "clf = RandomForestClassifier(random_state=42)\n",
        "grid_search = GridSearchCV(estimator=clf, param_grid=param_grid, cv=3, n_jobs=-1, verbose=2)\n",
        "grid_search.fit(X_resampled, y_resampled)\n",
        "\n",
        "print(f\"Best parameters: {grid_search.best_params_}\")\n",
        "\n",
        "cv_scores = cross_val_score(grid_search.best_estimator_, X_resampled, y_resampled, cv=3)\n",
        "print(f\"Cross-validation scores: {cv_scores}\")\n",
        "print(f\"Mean cross-validation score: {cv_scores.mean()}\")\n",
        "\n",
        "X_train, X_test, y_train, y_test = train_test_split(X_resampled, y_resampled, test_size=0.25, random_state=42)\n",
        "\n",
        "best_clf = grid_search.best_estimator_\n",
        "best_clf.fit(X_train, y_train)\n",
        "\n",
        "y_pred = best_clf.predict(X_test)\n",
        "\n",
        "print(classification_report(y_test, y_pred))\n"
      ],
      "metadata": {
        "colab": {
          "base_uri": "https://localhost:8080/"
        },
        "id": "-81Q_vBpCkpX",
        "outputId": "dcd0fe14-2712-48fd-823c-1a4827c26246"
      },
      "execution_count": 1,
      "outputs": [
        {
          "output_type": "stream",
          "name": "stdout",
          "text": [
            "Fitting 3 folds for each of 108 candidates, totalling 324 fits\n",
            "Best parameters: {'max_depth': None, 'min_samples_leaf': 1, 'min_samples_split': 2, 'n_estimators': 50}\n",
            "Cross-validation scores: [0.56666667 0.75836431 0.73605948]\n",
            "Mean cross-validation score: 0.6870301528294093\n",
            "              precision    recall  f1-score   support\n",
            "\n",
            "           0       1.00      0.50      0.66       105\n",
            "           1       0.65      1.00      0.79        97\n",
            "\n",
            "    accuracy                           0.74       202\n",
            "   macro avg       0.82      0.75      0.72       202\n",
            "weighted avg       0.83      0.74      0.72       202\n",
            "\n"
          ]
        }
      ]
    },
    {
      "cell_type": "code",
      "source": [],
      "metadata": {
        "id": "7S8XAebhCzC7"
      },
      "execution_count": null,
      "outputs": []
    }
  ],
  "metadata": {
    "colab": {
      "provenance": []
    },
    "kernelspec": {
      "display_name": "Python 3",
      "name": "python3"
    },
    "language_info": {
      "name": "python"
    }
  },
  "nbformat": 4,
  "nbformat_minor": 0
}